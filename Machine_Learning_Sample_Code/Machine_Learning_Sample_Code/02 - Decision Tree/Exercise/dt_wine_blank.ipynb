{
 "cells": [
  {
   "cell_type": "markdown",
   "id": "082ea3d8",
   "metadata": {},
   "source": [
    "# Decision Tree: Wine Dataset\n",
    "\n",
    "## Loading Packages"
   ]
  },
  {
   "cell_type": "code",
   "execution_count": 1,
   "id": "beacb972",
   "metadata": {},
   "outputs": [],
   "source": [
    "import pandas as pd\n",
    "\n",
    "\n",
    "from sklearn.metrics import confusion_matrix"
   ]
  },
  {
   "cell_type": "markdown",
   "id": "089fdcac",
   "metadata": {},
   "source": [
    "## Loading Wine Dataset"
   ]
  },
  {
   "cell_type": "code",
   "execution_count": 2,
   "id": "000c4f11",
   "metadata": {
    "scrolled": true
   },
   "outputs": [],
   "source": [
    "df = pd.read_csv('wine.csv')                     # load dataset into a dataframe\n",
    "wine_df = df.drop(columns=['Wine Variety'])      # get features minus the label\n",
    "y = df['Wine Variety']                           # get label column only"
   ]
  },
  {
   "cell_type": "code",
   "execution_count": 3,
   "id": "86829648",
   "metadata": {},
   "outputs": [
    {
     "data": {
      "text/plain": [
       "['Alcohol',\n",
       " 'Malic acid',\n",
       " 'Ash',\n",
       " 'Alcalinity of ash',\n",
       " 'Magnesium',\n",
       " 'Total Phenols',\n",
       " 'Flavanoids',\n",
       " 'Nonflavanoid phenols',\n",
       " 'Proanthocyanins',\n",
       " 'Color intensity',\n",
       " 'Hue',\n",
       " 'Wine Dilution',\n",
       " 'Proline']"
      ]
     },
     "execution_count": 3,
     "metadata": {},
     "output_type": "execute_result"
    }
   ],
   "source": [
    "wine_classes = [\"1\", \"2\", \"3\"]                   # label values of Wine Variety\n",
    "\n",
    "wine_features = wine_df.columns.tolist()\n",
    "wine_features"
   ]
  },
  {
   "cell_type": "markdown",
   "id": "502dfb92",
   "metadata": {},
   "source": [
    "## Data Preparation\n",
    "\n",
    "We split the data into two: train and test set."
   ]
  },
  {
   "cell_type": "code",
   "execution_count": 4,
   "id": "90cedfa5",
   "metadata": {
    "scrolled": true
   },
   "outputs": [],
   "source": [
    "# split training (80%) and test (20%) dataset\n",
    "\n",
    "wine_train_df = wine_df.sample(frac=0.8, random_state=0)         \n",
    "wine_train_y = y[wine_train_df.index]      \n",
    "\n",
    "wine_test_df = wine_df.drop(wine_train_df.index) \n",
    "wine_test_y = y[wine_test_df.index]       "
   ]
  },
  {
   "cell_type": "code",
   "execution_count": null,
   "id": "1de46aea",
   "metadata": {},
   "outputs": [],
   "source": []
  }
 ],
 "metadata": {
  "kernelspec": {
   "display_name": "Python 3 (ipykernel)",
   "language": "python",
   "name": "python3"
  },
  "language_info": {
   "codemirror_mode": {
    "name": "ipython",
    "version": 3
   },
   "file_extension": ".py",
   "mimetype": "text/x-python",
   "name": "python",
   "nbconvert_exporter": "python",
   "pygments_lexer": "ipython3",
   "version": "3.11.0"
  }
 },
 "nbformat": 4,
 "nbformat_minor": 5
}
