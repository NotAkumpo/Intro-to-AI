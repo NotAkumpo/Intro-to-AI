{
 "cells": [
  {
   "cell_type": "code",
   "execution_count": 1,
   "id": "e8d6be49",
   "metadata": {},
   "outputs": [],
   "source": [
    "# Program that simulates node expansion and search for uniform-cost search \n",
    "#\n",
    "# The Romania dataset in the Russel-Norvig textbook is used\n",
    "#    requires romania_graph.py which sets up the graph from the example\n",
    "#\n",
    "# Priority queue used stores cost, city, and path\n",
    "\n",
    "from queue import PriorityQueue\n",
    "from romania_graph import getgraph"
   ]
  },
  {
   "cell_type": "markdown",
   "id": "d0627110",
   "metadata": {},
   "source": [
    "### Python PriorityQueue Example\n",
    "\n",
    "To use Python's priority queue, items are added in the queue via the `put()` function and the item with the lowest value are retrieved using the `get()` function.\n",
    "\n",
    "The priority queue's `put()` function accepts items in \"tuple\" format: `(value, string/object)`\n",
    "\n",
    "Calling the `get()` function will return the item with the lowest value and __remove it from the queue__"
   ]
  },
  {
   "cell_type": "code",
   "execution_count": 2,
   "id": "a95631ee",
   "metadata": {},
   "outputs": [
    {
     "name": "stdout",
     "output_type": "stream",
     "text": [
      "(2, 'B')\n",
      "(5, 'A')\n",
      "(10, 'C')\n"
     ]
    }
   ],
   "source": [
    "sample_pq = PriorityQueue()\n",
    "\n",
    "sample_pq.put((5, \"A\"))\n",
    "sample_pq.put((2, \"B\"))\n",
    "sample_pq.put((10, \"C\"))\n",
    "\n",
    "# print item with lowest value until queue is empty\n",
    "while(sample_pq.qsize() > 0):\n",
    "    print(sample_pq.get())"
   ]
  },
  {
   "cell_type": "markdown",
   "id": "fe26f288",
   "metadata": {},
   "source": [
    "## UCS Function"
   ]
  },
  {
   "cell_type": "code",
   "execution_count": 3,
   "id": "11da8d87",
   "metadata": {},
   "outputs": [],
   "source": [
    "def solveucs(adj, dist, source, dest):\n",
    "    pq = PriorityQueue()\n",
    "\n",
    "    # add initial state to priority queue\n",
    "    # format used: (total_distance, (city, path))\n",
    "    pq.put((0,(source,source)))\n",
    "\n",
    "    reached = {}\n",
    "    reached[source] = 0\n",
    "\n",
    "    while (pq.qsize() > 0):\n",
    "        (cost, (city, path)) = pq.get()\n",
    "        print(cost, city, path)\n",
    "                \n",
    "        if city == dest:\n",
    "            return cost, path    \n",
    "        # get children\n",
    "        for c in adj[city]:\n",
    "            adj_city_pair = city + \",\" + c\n",
    "            weight = dist[adj_city_pair]\n",
    "        \n",
    "            new_cost = cost + weight\n",
    "            new_path = path + '-' + c\n",
    "        \n",
    "            if (reached.get(c) is None): # if not yet reached\n",
    "                pq.put((new_cost, (c, new_path)))\n",
    "                reached[c] = new_cost\n",
    "            \n",
    "            else:\n",
    "                if (new_cost < reached[c]): # if reached and cost to city improves\n",
    "                    pq.put((new_cost,(c, new_path)))\n",
    "                    reached[c] = new_cost\n"
   ]
  },
  {
   "cell_type": "markdown",
   "id": "73dd0b7e",
   "metadata": {},
   "source": [
    "## Run UCS"
   ]
  },
  {
   "cell_type": "code",
   "execution_count": 4,
   "id": "17f858c8",
   "metadata": {},
   "outputs": [
    {
     "name": "stdout",
     "output_type": "stream",
     "text": [
      "Source: Arad\n",
      "Destination: Bucharest\n",
      "\n",
      "Uniform-Cost Search\n",
      "0 Arad Arad\n",
      "75 Zerind Arad-Zerind\n",
      "118 Timisoara Arad-Timisoara\n",
      "140 Sibiu Arad-Sibiu\n",
      "146 Oradea Arad-Zerind-Oradea\n",
      "220 Rimnicu Arad-Sibiu-Rimnicu\n",
      "229 Lugoj Arad-Timisoara-Lugoj\n",
      "239 Fagaras Arad-Sibiu-Fagaras\n",
      "299 Mehadia Arad-Timisoara-Lugoj-Mehadia\n",
      "317 Pitesti Arad-Sibiu-Rimnicu-Pitesti\n",
      "366 Craiova Arad-Sibiu-Rimnicu-Craiova\n",
      "374 Drobeta Arad-Timisoara-Lugoj-Mehadia-Drobeta\n",
      "418 Bucharest Arad-Sibiu-Rimnicu-Pitesti-Bucharest\n",
      "\n",
      "UCS returns: 418,Arad-Sibiu-Rimnicu-Pitesti-Bucharest\n"
     ]
    }
   ],
   "source": [
    "adj, dist = getgraph()\n",
    "source = 'Arad'\n",
    "dest = 'Bucharest'\n",
    "\n",
    "print('Source:',source)\n",
    "print('Destination:',dest)\n",
    "print()\n",
    "\n",
    "print('Uniform-Cost Search')\n",
    "ans, path = solveucs(adj,dist,source,dest)\n",
    "print()\n",
    "print('UCS returns: '+str(ans)+','+path)"
   ]
  },
  {
   "cell_type": "code",
   "execution_count": null,
   "id": "6ebadadd",
   "metadata": {},
   "outputs": [],
   "source": []
  }
 ],
 "metadata": {
  "kernelspec": {
   "display_name": "Python 3 (ipykernel)",
   "language": "python",
   "name": "python3"
  },
  "language_info": {
   "codemirror_mode": {
    "name": "ipython",
    "version": 3
   },
   "file_extension": ".py",
   "mimetype": "text/x-python",
   "name": "python",
   "nbconvert_exporter": "python",
   "pygments_lexer": "ipython3",
   "version": "3.10.7"
  }
 },
 "nbformat": 4,
 "nbformat_minor": 5
}
