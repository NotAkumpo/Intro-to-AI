{
 "cells": [
  {
   "cell_type": "code",
   "execution_count": 1,
   "id": "e8d6be49",
   "metadata": {},
   "outputs": [],
   "source": [
    "# Program that simulates node expansion and search for breadth-first search and depth-first-search\n",
    "#     the functions return nonoptimal solutions mainly because they ignore action costs\n",
    "#\n",
    "# The Romania dataset in the Russel-Norvig textbook is used\n",
    "#    requires romania_graph.py which sets up the graph from the example\n",
    "#\n",
    "# Demo code for FIFO and LIFO queues is also provided\n",
    "#\n",
    "\n",
    "from romania_graph import getgraph"
   ]
  },
  {
   "cell_type": "markdown",
   "id": "b7d522d7",
   "metadata": {},
   "source": [
    "### FIFO Queue Example\n",
    "\n",
    "To implement a regular first-in first-out (FIFO) queue, just use lists.  To insert and remove, use append() and pop(0), respectively."
   ]
  },
  {
   "cell_type": "code",
   "execution_count": 2,
   "id": "181b3d6a",
   "metadata": {},
   "outputs": [
    {
     "name": "stdout",
     "output_type": "stream",
     "text": [
      "X\n",
      "Y\n",
      "Z\n",
      "T\n"
     ]
    }
   ],
   "source": [
    "regular_fifo_queue = []\n",
    "regular_fifo_queue.append(\"X\")\n",
    "regular_fifo_queue.append(\"Y\")\n",
    "regular_fifo_queue.append(\"Z\")\n",
    "result = regular_fifo_queue.pop(0)\n",
    "print(result)\n",
    "regular_fifo_queue.append(\"T\")\n",
    "while len(regular_fifo_queue)>0:\n",
    "    print(regular_fifo_queue.pop(0))"
   ]
  },
  {
   "cell_type": "markdown",
   "id": "9a567be3",
   "metadata": {},
   "source": [
    "### LIFO Queue (Stack) Example\n",
    "\n",
    "To implement a last-in first-out (LIFO) queue (also called a stack), use lists too.  To insert and remove, use append and pop(), respectively."
   ]
  },
  {
   "cell_type": "code",
   "execution_count": 3,
   "id": "b4c9b2a1",
   "metadata": {},
   "outputs": [
    {
     "name": "stdout",
     "output_type": "stream",
     "text": [
      "Z\n",
      "T\n",
      "Y\n",
      "X\n"
     ]
    }
   ],
   "source": [
    "regular_lifo_queue = []\n",
    "regular_lifo_queue.append(\"X\")\n",
    "regular_lifo_queue.append(\"Y\")\n",
    "regular_lifo_queue.append(\"Z\")\n",
    "result = regular_lifo_queue.pop()\n",
    "print(result)\n",
    "regular_lifo_queue.append(\"T\")\n",
    "while len(regular_lifo_queue)>0:\n",
    "    print(regular_lifo_queue.pop())"
   ]
  },
  {
   "cell_type": "markdown",
   "id": "ae8e5147",
   "metadata": {},
   "source": [
    "## BFS Function"
   ]
  },
  {
   "cell_type": "code",
   "execution_count": 4,
   "id": "f09bb946",
   "metadata": {},
   "outputs": [],
   "source": [
    "def solvebfs(adj,dist,source,dest):\n",
    "    if source == dest:\n",
    "        return (0,source)\n",
    "   # add initial state to FIFO queue\n",
    "    frontier = [(0,source,source)]\n",
    "    reached = [source]\n",
    "    while len(frontier) > 0:\n",
    "        (cost,city,path) = frontier.pop(0)\n",
    "        print(cost,city,path)\n",
    "        # get children\n",
    "        for c in adj[city]:\n",
    "            ix = city+\",\"+c\n",
    "            newcost = cost+dist[ix]\n",
    "            if (c == dest):\n",
    "                return (newcost,path+'-'+c)\n",
    "            if (c not in reached): # if not yet reached\n",
    "                frontier.append((newcost,c,path+'-'+c))\n",
    "                reached.append(c)"
   ]
  },
  {
   "cell_type": "markdown",
   "id": "545c5ebf",
   "metadata": {},
   "source": [
    "## DFS Function"
   ]
  },
  {
   "cell_type": "code",
   "execution_count": 5,
   "id": "36356202",
   "metadata": {},
   "outputs": [],
   "source": [
    "def solvedfs(adj,dist,source,dest):\n",
    "   # add initial state to LIFO queue\n",
    "    frontier = [(0,source,source)]\n",
    "    reached = [source]\n",
    "    while len(frontier) > 0:\n",
    "        (cost,city,path) = frontier.pop()\n",
    "        print(cost,city,path)\n",
    "        if (city == dest):\n",
    "            return (cost,path)\n",
    "        reached.append(city)\n",
    "        # get children\n",
    "        for c in adj[city]:\n",
    "            ix = city+\",\"+c\n",
    "            newcost = cost+dist[ix]\n",
    "            if (c not in reached): # if not yet reached\n",
    "                frontier.append((newcost,c,path+'-'+c))"
   ]
  },
  {
   "cell_type": "markdown",
   "id": "dd0b9ac0",
   "metadata": {},
   "source": [
    "## Set up graph and parameters"
   ]
  },
  {
   "cell_type": "code",
   "execution_count": 6,
   "id": "9378556a",
   "metadata": {},
   "outputs": [
    {
     "name": "stdout",
     "output_type": "stream",
     "text": [
      "Source: Arad\n",
      "Destination: Bucharest\n"
     ]
    }
   ],
   "source": [
    "adj,dist = getgraph()\n",
    "source = 'Arad'\n",
    "dest = 'Bucharest'\n",
    "\n",
    "print('Source:',source)\n",
    "print('Destination:',dest)"
   ]
  },
  {
   "cell_type": "markdown",
   "id": "8ac1ce0b",
   "metadata": {},
   "source": [
    "## Run BFS"
   ]
  },
  {
   "cell_type": "code",
   "execution_count": 7,
   "id": "bd3cd15d",
   "metadata": {},
   "outputs": [
    {
     "name": "stdout",
     "output_type": "stream",
     "text": [
      "BFS\n",
      "0 Arad Arad\n",
      "140 Sibiu Arad-Sibiu\n",
      "118 Timisoara Arad-Timisoara\n",
      "75 Zerind Arad-Zerind\n",
      "239 Fagaras Arad-Sibiu-Fagaras\n",
      "\n",
      "BFS returns:450,Arad-Sibiu-Fagaras-Bucharest\n"
     ]
    }
   ],
   "source": [
    "print('BFS')\n",
    "ans,path = solvebfs(adj,dist,source,dest)\n",
    "print()\n",
    "print('BFS returns:'+str(ans)+','+path)"
   ]
  },
  {
   "cell_type": "markdown",
   "id": "c30aa2e1",
   "metadata": {},
   "source": [
    "## Run DFS"
   ]
  },
  {
   "cell_type": "code",
   "execution_count": 8,
   "id": "16c62900",
   "metadata": {},
   "outputs": [
    {
     "name": "stdout",
     "output_type": "stream",
     "text": [
      "DFS\n",
      "0 Arad Arad\n",
      "75 Zerind Arad-Zerind\n",
      "146 Oradea Arad-Zerind-Oradea\n",
      "297 Sibiu Arad-Zerind-Oradea-Sibiu\n",
      "377 Rimnicu Arad-Zerind-Oradea-Sibiu-Rimnicu\n",
      "474 Pitesti Arad-Zerind-Oradea-Sibiu-Rimnicu-Pitesti\n",
      "612 Craiova Arad-Zerind-Oradea-Sibiu-Rimnicu-Pitesti-Craiova\n",
      "732 Drobeta Arad-Zerind-Oradea-Sibiu-Rimnicu-Pitesti-Craiova-Drobeta\n",
      "807 Mehadia Arad-Zerind-Oradea-Sibiu-Rimnicu-Pitesti-Craiova-Drobeta-Mehadia\n",
      "877 Lugoj Arad-Zerind-Oradea-Sibiu-Rimnicu-Pitesti-Craiova-Drobeta-Mehadia-Lugoj\n",
      "988 Timisoara Arad-Zerind-Oradea-Sibiu-Rimnicu-Pitesti-Craiova-Drobeta-Mehadia-Lugoj-Timisoara\n",
      "575 Bucharest Arad-Zerind-Oradea-Sibiu-Rimnicu-Pitesti-Bucharest\n",
      "\n",
      "DFS returns:575,Arad-Zerind-Oradea-Sibiu-Rimnicu-Pitesti-Bucharest\n"
     ]
    }
   ],
   "source": [
    "print('DFS')\n",
    "ans,path = solvedfs(adj,dist,source,dest)\n",
    "print()\n",
    "print('DFS returns:'+str(ans)+','+path)"
   ]
  },
  {
   "cell_type": "code",
   "execution_count": null,
   "id": "7f8d12a0",
   "metadata": {},
   "outputs": [],
   "source": []
  }
 ],
 "metadata": {
  "kernelspec": {
   "display_name": "Python 3 (ipykernel)",
   "language": "python",
   "name": "python3"
  },
  "language_info": {
   "codemirror_mode": {
    "name": "ipython",
    "version": 3
   },
   "file_extension": ".py",
   "mimetype": "text/x-python",
   "name": "python",
   "nbconvert_exporter": "python",
   "pygments_lexer": "ipython3",
   "version": "3.10.7"
  }
 },
 "nbformat": 4,
 "nbformat_minor": 5
}
