{
 "cells": [
  {
   "cell_type": "code",
   "execution_count": 1,
   "id": "e8d6be49",
   "metadata": {},
   "outputs": [],
   "source": [
    "# Program that simulates node expansion and search for greedy (straight-line) search and A* search\n",
    "#\n",
    "# The Romania dataset in the Russel-Norvig textbook is used\n",
    "#    requires romania_graph.py which sets up the graph from the example\n",
    "#         and dist_bucharest.py which stores straight-line distances\n",
    "#\n",
    "# Priority queue used stores cost, city, and path (and priority for A*)\n",
    "\n",
    "from queue import PriorityQueue\n",
    "from romania_graph import getgraph\n",
    "from dist_bucharest import straightlinetoBuch"
   ]
  },
  {
   "cell_type": "markdown",
   "id": "d0627110",
   "metadata": {},
   "source": [
    "### Python PriorityQueue Example\n",
    "\n",
    "To use Python's priority queue, items are added in the queue via the `put()` function and the item with the lowest value are retrieved using the `get()` function.\n",
    "\n",
    "The priority queue's `put()` function accepts items in \"tuple\" format: `(value, string/object)`\n",
    "\n",
    "Calling the `get()` function will return the item with the lowest value and __remove it from the queue__"
   ]
  },
  {
   "cell_type": "code",
   "execution_count": 2,
   "id": "a95631ee",
   "metadata": {},
   "outputs": [
    {
     "name": "stdout",
     "output_type": "stream",
     "text": [
      "(2, 'B')\n",
      "(5, 'A')\n",
      "(10, 'C')\n"
     ]
    }
   ],
   "source": [
    "sample_pq = PriorityQueue()\n",
    "\n",
    "sample_pq.put((5, \"A\"))\n",
    "sample_pq.put((2, \"B\"))\n",
    "sample_pq.put((10, \"C\"))\n",
    "\n",
    "# print item with lowest value until queue is empty\n",
    "while(sample_pq.qsize() > 0):\n",
    "    print(sample_pq.get())"
   ]
  },
  {
   "cell_type": "markdown",
   "id": "fe26f288",
   "metadata": {},
   "source": [
    "## Greedy (Heuristic) Search Function"
   ]
  },
  {
   "cell_type": "code",
   "execution_count": 3,
   "id": "11da8d87",
   "metadata": {},
   "outputs": [],
   "source": [
    "def solvegreedy(adj,dist,metric,source,dest):\n",
    "    pq = PriorityQueue()\n",
    "    # add initial state to priority queue\n",
    "    pq.put((metric[source],(0,source,source)))\n",
    "    reached = {}\n",
    "    while (pq.qsize() > 0):\n",
    "        (prio,(cost,city,path)) = pq.get()\n",
    "        print(prio,cost,city,path)\n",
    "        if city == dest:\n",
    "            return cost,path        # get children\n",
    "        for c in adj[city]:\n",
    "            ix = city+\",\"+c\n",
    "            weight = dist[ix]\n",
    "            val = cost+weight\n",
    "            if (reached.get(c) is None): # if not yet reached\n",
    "                # print(c,val)\n",
    "                pq.put((metric[c],(val,c,path+'-'+c)))\n",
    "                reached[c] = val\n",
    "            else:\n",
    "                if (val < reached[c]): # if reached and improvement found\n",
    "                    pq.put((metric[c],(val,c,path+'-'+c)))\n",
    "                    reached[c] = val\n"
   ]
  },
  {
   "cell_type": "markdown",
   "id": "b98815e8",
   "metadata": {},
   "source": [
    "## A* Search Function"
   ]
  },
  {
   "cell_type": "code",
   "execution_count": 4,
   "id": "96c17770",
   "metadata": {},
   "outputs": [],
   "source": [
    "def solveastar(adj, dist, metric, source, dest):\n",
    "    pq = PriorityQueue()\n",
    "    \n",
    "    # add initial state to priority queue\n",
    "    # format used: (metric, (cost, city, path))\n",
    "    pq.put((metric[source], (0, source, source)))\n",
    "    \n",
    "    reached = {}\n",
    "    while (pq.qsize() > 0):\n",
    "        (prio, (cost, city, path)) = pq.get()\n",
    "        print(prio, cost, city, path)\n",
    "        if city == dest:\n",
    "            return cost, path      \n",
    "        # get children\n",
    "        for c in adj[city]:\n",
    "            adj_city_pair = city + \",\" + c\n",
    "            weight = dist[adj_city_pair]\n",
    "            \n",
    "            new_cost = cost + weight\n",
    "            new_path = path + '-' + c\n",
    "            \n",
    "            if (reached.get(c) is None): # if not yet reached\n",
    "                pq.put((new_cost + metric[c], (new_cost, c, new_path)))\n",
    "                reached[c] = new_cost\n",
    "            else:\n",
    "                if (new_cost < reached[c]): # if reached and improvement found\n",
    "                    pq.put((new_cost + metric[c], (new_cost, c, new_path)))\n",
    "                    reached[c] = new_cost\n",
    "  "
   ]
  },
  {
   "cell_type": "markdown",
   "id": "73dd0b7e",
   "metadata": {},
   "source": [
    "## Using Greedy and A* Functions"
   ]
  },
  {
   "cell_type": "code",
   "execution_count": 5,
   "id": "17f858c8",
   "metadata": {},
   "outputs": [
    {
     "name": "stdout",
     "output_type": "stream",
     "text": [
      "Source: Arad\n",
      "Destination: Bucharest\n",
      "\n",
      "Greedy Straight-line Search\n",
      "366 0 Arad Arad\n",
      "253 140 Sibiu Arad-Sibiu\n",
      "176 239 Fagaras Arad-Sibiu-Fagaras\n",
      "0 450 Bucharest Arad-Sibiu-Fagaras-Bucharest\n",
      "\n",
      "Greedy Search returns: 450,Arad-Sibiu-Fagaras-Bucharest\n",
      "\n",
      "A* Search\n",
      "366 0 Arad Arad\n",
      "393 140 Sibiu Arad-Sibiu\n",
      "413 220 Rimnicu Arad-Sibiu-Rimnicu\n",
      "415 239 Fagaras Arad-Sibiu-Fagaras\n",
      "417 317 Pitesti Arad-Sibiu-Rimnicu-Pitesti\n",
      "418 418 Bucharest Arad-Sibiu-Rimnicu-Pitesti-Bucharest\n",
      "\n",
      "A* Search returns: 418,Arad-Sibiu-Rimnicu-Pitesti-Bucharest\n"
     ]
    }
   ],
   "source": [
    "adj, dist = getgraph()\n",
    "source = 'Arad'\n",
    "dest = 'Bucharest'\n",
    "straight = straightlinetoBuch()\n",
    "\n",
    "print('Source:',source)\n",
    "print('Destination:',dest)\n",
    "print()\n",
    "\n",
    "print('Greedy Straight-line Search')\n",
    "ans, path = solvegreedy(adj,dist,straight,source,dest)\n",
    "print()\n",
    "print('Greedy Search returns: '+str(ans)+','+path)\n",
    "\n",
    "print()\n",
    "print('A* Search')\n",
    "ans, path = solveastar(adj,dist,straight,source,dest)\n",
    "print()\n",
    "print('A* Search returns: '+str(ans)+','+path)"
   ]
  }
 ],
 "metadata": {
  "kernelspec": {
   "display_name": "Python 3 (ipykernel)",
   "language": "python",
   "name": "python3"
  },
  "language_info": {
   "codemirror_mode": {
    "name": "ipython",
    "version": 3
   },
   "file_extension": ".py",
   "mimetype": "text/x-python",
   "name": "python",
   "nbconvert_exporter": "python",
   "pygments_lexer": "ipython3",
   "version": "3.10.7"
  }
 },
 "nbformat": 4,
 "nbformat_minor": 5
}
